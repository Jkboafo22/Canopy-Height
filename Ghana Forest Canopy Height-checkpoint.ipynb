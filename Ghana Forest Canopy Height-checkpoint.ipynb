{
 "cells": [
  {
   "cell_type": "code",
   "execution_count": 1,
   "id": "de14a22f",
   "metadata": {},
   "outputs": [],
   "source": [
    "import ee\n",
    "import os\n",
    "import geemap\n",
    "import pandas as pd\n",
    "import numpy as np\n",
    "import geopandas as gpd\n",
    "import matplotlib.pyplot as plt"
   ]
  },
  {
   "cell_type": "code",
   "execution_count": 2,
   "id": "875f6ad9",
   "metadata": {},
   "outputs": [],
   "source": [
    "#Initialize Earth Engine\n",
    "#ee.Authenticate()\n",
    "ee.Initialize()"
   ]
  },
  {
   "cell_type": "code",
   "execution_count": 3,
   "id": "e470630e",
   "metadata": {},
   "outputs": [],
   "source": [
    "# Load the shapefile(AOI) using GeoPandas\n",
    "\n",
    "GH_shp = gpd.read_file('C:/Users/user/Documents/Ghana Shapefile (New)/GHANA BD/GHANA_BD.shp')\n"
   ]
  },
  {
   "cell_type": "code",
   "execution_count": 4,
   "id": "ff157c47",
   "metadata": {},
   "outputs": [],
   "source": [
    "# Creating a GeoJSON representation from the GeoPandas dataframe\n",
    "GH_geojson = geemap.gdf_to_ee(GH_shp)"
   ]
  },
  {
   "cell_type": "code",
   "execution_count": 5,
   "id": "a2a4eaeb",
   "metadata": {},
   "outputs": [],
   "source": [
    "#Using Basemaps\n",
    "Map = geemap.Map()\n",
    "#Map.setCenter(-1.315062,7.975497,7)"
   ]
  },
  {
   "cell_type": "code",
   "execution_count": 6,
   "id": "16450938",
   "metadata": {},
   "outputs": [],
   "source": [
    "# High Resolution 1m Global Canopy Height Maps with respect to the Area of Interest (AOI)\n",
    "\n",
    "# Filter the Sentinel data Collection by date, AOI and cover\n",
    "CanopyH = ee.ImageCollection(\"projects/meta-forest-monitoring-okw37/assets/CanopyHeight\").filterBounds(GH_geojson);\n"
   ]
  },
  {
   "cell_type": "code",
   "execution_count": 7,
   "id": "1a9bb26f",
   "metadata": {},
   "outputs": [],
   "source": [
    "# Clip the Canopy Height to the shapefile \n",
    "CanopyH_clip = CanopyH.map(lambda image: image.clip(GH_geojson))"
   ]
  },
  {
   "cell_type": "code",
   "execution_count": 8,
   "id": "d28c47f4",
   "metadata": {},
   "outputs": [],
   "source": [
    "# Center the map on the shapefile\n",
    "Map.centerObject(GH_geojson,7)  "
   ]
  },
  {
   "cell_type": "code",
   "execution_count": 18,
   "id": "0d126d3f",
   "metadata": {},
   "outputs": [],
   "source": [
    "CanopyH_Viz = {\n",
    "    'min':0,\n",
    "    'max':25,\n",
    "    'palette': ['000004', '420a68', '932567', 'dd513a', 'f9c932' ]\n",
    "}\n",
    "Map.addLayer(CanopyH_clip, CanopyH_Viz, 'Canopy Height')"
   ]
  },
  {
   "cell_type": "code",
   "execution_count": 19,
   "id": "e32c937d",
   "metadata": {},
   "outputs": [],
   "source": [
    "#Color palette that can be used\n",
    "#'000004','1B0C39','5A1454','A3395B','F98C46'  Magma\n",
    "#'000004', '420a68', '932567', 'dd513a', 'f9c932' inferno\n",
    "#'440154','3B528B', '21908C', '5DC863', 'FDE724' viridis\n",
    "#'aeb2a6', '4a6741', '25591f','19270d', '8c510a'"
   ]
  },
  {
   "cell_type": "code",
   "execution_count": 20,
   "id": "f3d2ec3a",
   "metadata": {},
   "outputs": [],
   "source": [
    "# Add the colorbar legend\n",
    "Map.add_colorbar(CanopyH_Viz['palette'], vmin=CanopyH_Viz['min'], vmax=CanopyH_Viz['max'], caption=\"Forest Canopy Height (m),\")\n"
   ]
  },
  {
   "cell_type": "code",
   "execution_count": 21,
   "id": "f18e09a0",
   "metadata": {},
   "outputs": [
    {
     "data": {
      "application/vnd.jupyter.widget-view+json": {
       "model_id": "0b00489f1860487da09f09d07c26b80a",
       "version_major": 2,
       "version_minor": 0
      },
      "text/plain": [
       "Map(bottom=15962.0, center=[7.904438420606356, -1.002369004704362], controls=(WidgetControl(options=['position…"
      ]
     },
     "metadata": {},
     "output_type": "display_data"
    }
   ],
   "source": [
    "Map"
   ]
  },
  {
   "cell_type": "code",
   "execution_count": 22,
   "id": "40bd5aa0",
   "metadata": {},
   "outputs": [],
   "source": [
    "#Map.save('C:/Users/user/Desktop/Canopy Height/GhanaCanopyH1.html')"
   ]
  },
  {
   "cell_type": "code",
   "execution_count": 23,
   "id": "d0952ccb",
   "metadata": {},
   "outputs": [],
   "source": [
    "out_img = os.path.expanduser('C:/Users/user/Desktop/Canopy Height/GHmap.png')"
   ]
  },
  {
   "cell_type": "code",
   "execution_count": 24,
   "id": "956f436b",
   "metadata": {},
   "outputs": [],
   "source": [
    "image = CanopyH_clip.mosaic()\n",
    "\n",
    "# Define the region from the GeoJSON object\n",
    "region = GH_geojson.geometry()"
   ]
  },
  {
   "cell_type": "code",
   "execution_count": 25,
   "id": "3b697586",
   "metadata": {},
   "outputs": [],
   "source": [
    "# Generate the thumbnail with appropriate dimensions\n",
    "out_img = 'C:/Users/user/Desktop/Canopy Height/CanopyH_thumbnail.png'\n",
    "dimensions = 1000  # Increase dimensions for better coverage\n",
    "\n",
    "# Generate the thumbnail\n",
    "geemap.get_image_thumbnail(image, out_img, vis_params=CanopyH_Viz, dimensions=dimensions, region=region.getInfo(), format='png')\n"
   ]
  },
  {
   "cell_type": "code",
   "execution_count": 26,
   "id": "c4ade3c3",
   "metadata": {},
   "outputs": [
    {
     "data": {
      "application/vnd.jupyter.widget-view+json": {
       "model_id": "a4d0e42daabb4d2caf5649edf087a21d",
       "version_major": 2,
       "version_minor": 0
      },
      "text/plain": [
       "Output()"
      ]
     },
     "metadata": {},
     "output_type": "display_data"
    }
   ],
   "source": [
    "geemap.show_image(out_img)"
   ]
  },
  {
   "cell_type": "code",
   "execution_count": null,
   "id": "7be8a3cc",
   "metadata": {},
   "outputs": [],
   "source": []
  },
  {
   "cell_type": "code",
   "execution_count": null,
   "id": "c487e407",
   "metadata": {},
   "outputs": [],
   "source": []
  },
  {
   "cell_type": "code",
   "execution_count": null,
   "id": "c12940a1",
   "metadata": {},
   "outputs": [],
   "source": []
  },
  {
   "cell_type": "code",
   "execution_count": null,
   "id": "7bf1bf03",
   "metadata": {},
   "outputs": [],
   "source": []
  },
  {
   "cell_type": "code",
   "execution_count": null,
   "id": "457aa185",
   "metadata": {},
   "outputs": [],
   "source": []
  }
 ],
 "metadata": {
  "kernelspec": {
   "display_name": "MscGis_Project1-env",
   "language": "python",
   "name": "mscgis_project1-env"
  },
  "language_info": {
   "codemirror_mode": {
    "name": "ipython",
    "version": 3
   },
   "file_extension": ".py",
   "mimetype": "text/x-python",
   "name": "python",
   "nbconvert_exporter": "python",
   "pygments_lexer": "ipython3",
   "version": "3.10.5"
  }
 },
 "nbformat": 4,
 "nbformat_minor": 5
}
